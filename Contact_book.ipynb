{
  "nbformat": 4,
  "nbformat_minor": 0,
  "metadata": {
    "colab": {
      "provenance": []
    },
    "kernelspec": {
      "name": "python3",
      "display_name": "Python 3"
    },
    "language_info": {
      "name": "python"
    }
  },
  "cells": [
    {
      "cell_type": "code",
      "execution_count": 10,
      "metadata": {
        "colab": {
          "base_uri": "https://localhost:8080/"
        },
        "id": "kSD42G_Qv20g",
        "outputId": "85772749-21a1-4456-c8bb-de02c5da1f47"
      },
      "outputs": [
        {
          "name": "stdout",
          "output_type": "stream",
          "text": [
            "1. Add new contact\n",
            "2. Search contact\n",
            "3. Display all contacts\n",
            "4. Edit contact \n",
            "5. Delete Contact \n",
            "6.Exit\n",
            "Enter your choice: 6\n"
          ]
        }
      ],
      "source": [
        "contact = {}\n",
        "\n",
        "def display_contact():\n",
        "  print(\"Name\\t\\tContact Number\")\n",
        "  for key in contact:\n",
        "    print(\"{}\\t\\t{}\".format(key,contact.get(key)))\n",
        "\n",
        "while True:\n",
        "  choice = int(input(\"1. Add new contact\\n2. Search contact\\n3. Display all contacts\\n4. Edit contact \\n5. Delete Contact \\n6.Exit\\nEnter your choice: \"))\n",
        "\n",
        "  if choice == 1:\n",
        "    name = input(\"Enter name: \")\n",
        "    phone = input(\"Enter phone number: \")\n",
        "    contact[name] = phone\n",
        "  elif choice == 2:\n",
        "    search_name = input(\"enter the contact name \")\n",
        "    if search_name in contact:\n",
        "      print(search_name,\"'s contact number is \", contact[search_name])\n",
        "    else:\n",
        "      print(\"Name is not found in Contact Book\")\n",
        "  elif choice == 3:\n",
        "    if not contact:\n",
        "      print(\"empty contact book\")\n",
        "    else:\n",
        "      display_contact()\n",
        "  elif choice == 4:\n",
        "    edit_contact = input(\"Enter the contact to be edited\")\n",
        "    if edit_contact in contact:\n",
        "      phone = input(\"enter mobile number \")\n",
        "      contact[edit_contact]=phone\n",
        "      print(\"contact updated\")\n",
        "      display_contact()\n",
        "    else:\n",
        "      print(\"Name is not found in contact book\")\n",
        "  elif choice == 5:\n",
        "      del_contact = input(\"Enter the contact to be deleted\")\n",
        "      if del_contact in contact:\n",
        "        confirm = input(\"Do you want to delete this contact y/n?\")\n",
        "        if confirm =='y' or confirm =='n':\n",
        "          contact.pop(del_contact)\n",
        "        display_contact()\n",
        "      else:\n",
        "        print(\"Name is not found in contact book\")\n",
        "  else:\n",
        "       break"
      ]
    }
  ]
}